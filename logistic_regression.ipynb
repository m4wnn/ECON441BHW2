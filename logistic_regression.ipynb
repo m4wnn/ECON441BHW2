{
 "cells": [
  {
   "cell_type": "markdown",
   "id": "d6bd27de",
   "metadata": {},
   "source": [
    "# 1.) Pull in Data and Convert ot Monthly"
   ]
  },
  {
   "cell_type": "code",
   "execution_count": 23,
   "id": "125718fb",
   "metadata": {
    "lines_to_next_cell": 0
   },
   "outputs": [],
   "source": [
    "import yfinance as yf\n",
    "import pandas as pd\n",
    "import numpy as np\n",
    "import matplotlib.pyplot as plt\n",
    "\n",
    "from sklearn.model_selection import train_test_split\n",
    "from sklearn.linear_model import LogisticRegression\n",
    "from sklearn import metrics\n",
    "from sklearn.preprocessing import StandardScaler\n",
    "\n",
    "from rich import inspect\n",
    "from icecream import ic\n",
    "\n",
    "# Elimitate warnings\n",
    "import warnings\n",
    "warnings.filterwarnings(\"ignore\")"
   ]
  },
  {
   "cell_type": "code",
   "execution_count": 24,
   "id": "a2aacd0e",
   "metadata": {
    "lines_to_next_cell": 0
   },
   "outputs": [
    {
     "name": "stderr",
     "output_type": "stream",
     "text": [
      "[*********************100%%**********************]  1 of 1 completed\n",
      "ic| apple_data.head():                 Open      High       Low     Close  Adj Close     Volume\n",
      "                       Date                                                                    \n",
      "                       1980-12-12  0.128348  0.128906  0.128348  0.128348   0.099319  469033600\n",
      "                       1980-12-15  0.122210  0.122210  0.121652  0.121652   0.094137  175884800\n",
      "                       1980-12-16  0.113281  0.113281  0.112723  0.112723   0.087228  105728000\n",
      "                       1980-12-17  0.115513  0.116071  0.115513  0.115513   0.089387   86441600\n",
      "                       1980-12-18  0.118862  0.119420  0.118862  0.118862   0.091978   73449600\n"
     ]
    }
   ],
   "source": [
    "apple_data = yf.download('AAPL')\n",
    "ic(apple_data.head());"
   ]
  },
  {
   "cell_type": "code",
   "execution_count": 25,
   "id": "64d99eb6",
   "metadata": {
    "lines_to_next_cell": 0
   },
   "outputs": [
    {
     "name": "stderr",
     "output_type": "stream",
     "text": [
      "ic| df.head():             Adj Close\n",
      "               Date                 \n",
      "               1980-12-31   0.117887\n",
      "               1981-01-31   0.097591\n",
      "               1981-02-28   0.091546\n",
      "               1981-03-31   0.084637\n",
      "               1981-04-30   0.098023\n",
      "ic| df.index.min(): Timestamp('1980-12-31 00:00:00')\n",
      "ic| df.index.max(): Timestamp('2024-01-31 00:00:00')\n"
     ]
    }
   ],
   "source": [
    "# To revert the order of the data from oldest to newest.\n",
    "df = apple_data.resample(\"M\").last()[[\"Adj Close\"]]\n",
    "ic(df.head());\n",
    "ic(df.index.min());\n",
    "ic(df.index.max());"
   ]
  },
  {
   "cell_type": "markdown",
   "id": "a1ccde2f",
   "metadata": {
    "lines_to_next_cell": 0
   },
   "source": [
    "# 2.) Create columns. \n",
    "  - Current Stock Price, Difference in stock price, Whether it went up or down over the next month,  option premium"
   ]
  },
  {
   "cell_type": "code",
   "execution_count": 26,
   "id": "237a694d",
   "metadata": {
    "lines_to_next_cell": 0
   },
   "outputs": [
    {
     "name": "stderr",
     "output_type": "stream",
     "text": [
      "ic| df.head():             Adj Close     delta  target   premium\n",
      "               Date                                             \n",
      "               1980-12-31   0.117887 -0.020296      -1  0.009431\n",
      "               1981-01-31   0.097591 -0.006045      -1  0.007807\n",
      "               1981-02-28   0.091546 -0.006909      -1  0.007324\n",
      "               1981-03-31   0.084637  0.013386       1  0.006771\n",
      "               1981-04-30   0.098023  0.016409       1  0.007842\n"
     ]
    }
   ],
   "source": [
    "df['delta'] = df[\"Adj Close\"].diff()\n",
    "df['delta'] = df['delta'].shift(-1)\n",
    "df = df.dropna()\n",
    "# sign of the delta\n",
    "df['target'] = np.where(df['delta'] > 0, 1, -1)\n",
    "# option premium\n",
    "df['premium'] = df['Adj Close'] * 0.08\n",
    "ic(df.head());"
   ]
  },
  {
   "cell_type": "markdown",
   "id": "baf92314",
   "metadata": {
    "lines_to_next_cell": 0
   },
   "source": [
    "# 3.) Pull in X data, normalize and build a LogReg on column 2"
   ]
  },
  {
   "cell_type": "code",
   "execution_count": 27,
   "id": "c5bbcdf2",
   "metadata": {
    "lines_to_next_cell": 0
   },
   "outputs": [
    {
     "name": "stderr",
     "output_type": "stream",
     "text": [
      "ic| X.tail():                 VAR1\n",
      "              Date                \n",
      "              2023-05-31  2.330573\n",
      "              2023-06-30  3.033257\n",
      "              2023-07-31  1.007072\n",
      "              2023-08-31  0.504651\n",
      "              2023-09-30  0.669328\n",
      "ic| X.index.min(): Timestamp('1980-12-31 00:00:00')\n",
      "ic| X.index.max(): Timestamp("
     ]
    },
    {
     "name": "stderr",
     "output_type": "stream",
     "text": [
      "'2023-09-30 00:00:00')\n",
      "ic| X.describe():              VAR1\n",
      "                  count  514.000000\n",
      "                  mean     1.598249\n",
      "                  std      1.073612\n",
      "                  min     -0.817647\n",
      "                  25%      0.609349\n",
      "                  50%      1.725627\n",
      "                  75%      2.555558\n",
      "                  max      3.795485\n"
     ]
    }
   ],
   "source": [
    "X = pd.read_csv(\"Xdata.csv\", index_col=\"Date\", parse_dates=[\"Date\"])\n",
    "ic(X.tail());\n",
    "ic(X.index.min());\n",
    "ic(X.index.max());\n",
    "ic(X.describe());"
   ]
  },
  {
   "cell_type": "code",
   "execution_count": 28,
   "id": "e89dd1d9",
   "metadata": {
    "lines_to_next_cell": 0
   },
   "outputs": [
    {
     "name": "stderr",
     "output_type": "stream",
     "text": [
      "ic| y.tail(): Date\n",
      "              2023-05-31    1\n",
      "              2023-06-30    1\n",
      "              2023-07-31   -1\n",
      "              2023-08-31   -1\n",
      "              2023-09-30   -1\n",
      "              Freq: M, Name: target, dtype: int64\n",
      "ic| y.index.min(): Timestamp('1980-12-31 00:00:00')\n",
      "ic| y.index.max(): Timestamp('2023-09-30 00:00:00')\n",
      "ic| y.describe(): count    514.000000\n",
      "                  mean       0.101167\n",
      "                  std        0.995839\n",
      "                  min       -1.000000\n",
      "                  25%       -1.000000\n",
      "                  50%        1.000000\n",
      "                  75%        1.000000\n",
      "                  max        1.000000\n",
      "                  Name: target, dtype: float64\n"
     ]
    }
   ],
   "source": [
    "#y = df.loc[:\"2023-09-30\",\"Target\"].copy()\n",
    "min_date = max(X.index.min(), df.index.min())\n",
    "max_date = min(X.index.max(), df.index.max())\n",
    "y = df.target.loc[min_date:max_date].copy()\n",
    "ic(y.tail());\n",
    "ic(y.index.min());\n",
    "ic(y.index.max());\n",
    "ic(y.describe());"
   ]
  },
  {
   "cell_type": "code",
   "execution_count": 29,
   "id": "2e9dc9ae",
   "metadata": {
    "lines_to_next_cell": 0
   },
   "outputs": [
    {
     "name": "stderr",
     "output_type": "stream",
     "text": [
      "ic| X_norm.head():                 VAR1\n",
      "                   Date                \n",
      "                   1980-12-31 -1.337900\n",
      "                   1981-01-31 -1.082263\n",
      "                   1981-02-28 -1.802444\n",
      "                   1981-03-31  0.888122\n",
      "                   1981-04-30  1.466021\n",
      "ic| X_norm.describe():                VAR1\n",
      "                       count  5.140000e+02\n",
      "                       mean   6.220705e-17\n",
      "                       std    1.000974e+00\n",
      "                       min   -2.252441e+00\n",
      "                       25%   -9.219936e-01\n",
      "                       50%    1.187599e-01\n",
      "                       75%    8.925395e-01\n",
      "                       max    2.048576e+00\n"
     ]
    }
   ],
   "source": [
    "scaler = StandardScaler()\n",
    "X_norm = pd.DataFrame(scaler.fit_transform(X), index=X.index, \n",
    "                      columns=X.columns)\n",
    "X_norm = X_norm.loc[min_date:max_date]\n",
    "ic(X_norm.head());\n",
    "ic(X_norm.describe());"
   ]
  },
  {
   "cell_type": "markdown",
   "id": "07b40cdb",
   "metadata": {
    "lines_to_next_cell": 0
   },
   "source": [
    "# 4.) Add columns, prediction and profits."
   ]
  },
  {
   "cell_type": "code",
   "execution_count": 30,
   "id": "7508b8f1",
   "metadata": {
    "lines_to_next_cell": 0
   },
   "outputs": [
    {
     "name": "stderr",
     "output_type": "stream",
     "text": [
      "ic| Y_pred[:10]: array([-1, -1, -1,  1,  1, -1, -1, -1, -1,  1])\n"
     ]
    }
   ],
   "source": [
    "log_reg = LogisticRegression().fit(X_norm, y)\n",
    "Y_pred = log_reg.predict(X_norm)\n",
    "ic(Y_pred[:10]);"
   ]
  },
  {
   "cell_type": "code",
   "execution_count": 31,
   "id": "f0ed2df4",
   "metadata": {
    "lines_to_next_cell": 0
   },
   "outputs": [],
   "source": [
    "df = df.loc[min_date:max_date]\n",
    "df['profit'] = 0\n",
    "# True positive\n",
    "df.loc[(df['target'] == 1) & (Y_pred == 1), 'profit'] = df['premium']\n",
    "# False positive\n",
    "df.loc[(df['target'] == -1) & (Y_pred == 1), 'profit'] = 100*df['delta'] + df['premium']"
   ]
  },
  {
   "cell_type": "markdown",
   "id": "6ee4f856",
   "metadata": {
    "lines_to_next_cell": 0
   },
   "source": [
    "# 5.) Plot profits over time"
   ]
  },
  {
   "cell_type": "code",
   "execution_count": 32,
   "id": "ad029d4d",
   "metadata": {
    "lines_to_next_cell": 0
   },
   "outputs": [
    {
     "data": {
      "text/plain": [
       "<Axes: xlabel='Date'>"
      ]
     },
     "execution_count": 32,
     "metadata": {},
     "output_type": "execute_result"
    },
    {
     "data": {
      "image/png": "[encoded data removed]",
      "text/plain": [
       "<Figure size 640x480 with 1 Axes>"
      ]
     },
     "metadata": {},
     "output_type": "display_data"
    }
   ],
   "source": [
    "df['profit'].cumsum().plot()\n",
    "# This could occur because of the pandemic."
   ]
  },
  {
   "cell_type": "markdown",
   "id": "806a4ed4",
   "metadata": {
    "lines_to_next_cell": 0
   },
   "source": [
    "# 5.5) Your skills from the MQE to help Mr. Luis."
   ]
  },
  {
   "cell_type": "markdown",
   "id": "975c1fbf",
   "metadata": {
    "cell_marker": "\"\"\"",
    "lines_to_next_cell": 0
   },
   "source": [
    "The speaker specializes in the world of blockchain and cryptocurrency. His initial project involved collaboration with a computer science professor, where they developed a more advanced version aimed at enhancing efficiency beyond Ethereum, named Avalanche.\n",
    "\n",
    "He could contribute significantly to matters concerning network governance by investigating the impacts of various incentive types on network growth, along with other economic aspects of the network.\n",
    "\n",
    "Given the growth of his platform \"The Arena\", the accumulation of data presents an opportunity for me to apply my knowledge in the field."
   ]
  },
  {
   "cell_type": "markdown",
   "id": "06783aba",
   "metadata": {
    "lines_to_next_cell": 0
   },
   "source": [
    "# 6.) Create a loop that stores total profits over time"
   ]
  },
  {
   "cell_type": "markdown",
   "id": "8cc168d0",
   "metadata": {},
   "source": [
    "# 7.) What is the optimal threshold and plot the total profits for this model."
   ]
  }
 ],
 "metadata": {
  "jupytext": {
   "cell_metadata_filter": "-all",
   "formats": "py:percent,ipynb",
   "main_language": "python"
  },
  "language_info": {
   "codemirror_mode": {
    "name": "ipython",
    "version": 3
   },
   "file_extension": ".py",
   "mimetype": "text/x-python",
   "name": "python",
   "nbconvert_exporter": "python",
   "pygments_lexer": "ipython3",
   "version": "3.11.6"
  }
 },
 "nbformat": 4,
 "nbformat_minor": 5
}
